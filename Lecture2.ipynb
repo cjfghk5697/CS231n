{
  "nbformat": 4,
  "nbformat_minor": 0,
  "metadata": {
    "colab": {
      "name": "Untitled40.ipynb",
      "provenance": [],
      "authorship_tag": "ABX9TyMTvClAz5sEBBj5KM/lEXqf",
      "include_colab_link": true
    },
    "kernelspec": {
      "name": "python3",
      "display_name": "Python 3"
    },
    "language_info": {
      "name": "python"
    }
  },
  "cells": [
    {
      "cell_type": "markdown",
      "metadata": {
        "id": "view-in-github",
        "colab_type": "text"
      },
      "source": [
        "<a href=\"https://colab.research.google.com/github/cjfghk5697/CS231n/blob/main/Lecture2.ipynb\" target=\"_parent\"><img src=\"https://colab.research.google.com/assets/colab-badge.svg\" alt=\"Open In Colab\"/></a>"
      ]
    },
    {
      "cell_type": "code",
      "metadata": {
        "id": "lIGR-QOJjy0r"
      },
      "source": [
        "def L_i(x, y, W):\n",
        "  \"\"\"\n",
        "  unvectorized version. Compute the multiclass svm loss for a single example (x,y)\n",
        "  - x is a column vector representing an image (e.g. 3073 x 1 in CIFAR-10)\n",
        "    with an appended bias dimension in the 3073-rd position (i.e. bias trick)\n",
        "  - y is an integer giving index of correct class (e.g. between 0 and 9 in CIFAR-10)\n",
        "  - W is the weight matrix (e.g. 10 x 3073 in CIFAR-10)\n",
        "  \"\"\"\n",
        "  delta = 1.0 # see notes about delta later in this section\n",
        "  scores = W.dot(x) # scores becomes of size 10 x 1, the scores for each class\n",
        "  correct_class_score = scores[y]\n",
        "  D = W.shape[0] # number of classes, e.g. 10\n",
        "  loss_i = 0.0\n",
        "  for j in range(D): # iterate over all wrong classes\n",
        "    if j == y:\n",
        "      # skip for the true class to only loop over incorrect classes\n",
        "      continue\n",
        "    # accumulate loss for the i-th example\n",
        "    loss_i += max(0, scores[j] - correct_class_score + delta)\n",
        "  return loss_i\n",
        "\n",
        "def L_i_vectorized(x, y, W):\n",
        "  \"\"\"\n",
        "  A faster half-vectorized implementation. half-vectorized\n",
        "  refers to the fact that for a single example the implementation contains\n",
        "  no for loops, but there is still one loop over the examples (outside this function)\n",
        "  \"\"\"\n",
        "  delta = 1.0\n",
        "  scores = W.dot(x)\n",
        "  # compute the margins for all classes in one vector operation\n",
        "  margins = np.maximum(0, scores - scores[y] + delta)\n",
        "  # on y-th position scores[y] - scores[y] canceled and gave delta. We want\n",
        "  # to ignore the y-th position and only consider margin on max wrong class\n",
        "  margins[y] = 0\n",
        "  loss_i = np.sum(margins)\n",
        "  return loss_i\n",
        "\n",
        "def L(X, y, W):\n",
        "  \"\"\"\n",
        "  fully-vectorized implementation :\n",
        "  - X holds all the training examples as columns (e.g. 3073 x 50,000 in CIFAR-10)\n",
        "  - y is array of integers specifying correct class (e.g. 50,000-D array)\n",
        "  - W are weights (e.g. 10 x 3073)\n",
        "  \"\"\"\n",
        "  # evaluate loss over all examples in X without using any for loops\n",
        "  # left as exercise to reader in the assignment"
      ],
      "execution_count": null,
      "outputs": []
    }
  ]
}